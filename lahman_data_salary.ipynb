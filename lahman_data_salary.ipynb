{
 "cells": [
  {
   "cell_type": "markdown",
   "metadata": {},
   "source": [
    "# Analysis of Lahman Data\n",
    "\n",
    "Normalize salaries based on avg for year\n",
    "\n",
    "Count of normalized salary tresholds vs win% - by team by year\n",
    "\n",
    "Sum of normalized salary vs win% - by team by year\n",
    "\n",
    "\n",
    "## STEP 1: Import Packages"
   ]
  },
  {
   "cell_type": "code",
   "execution_count": 2,
   "metadata": {},
   "outputs": [],
   "source": [
    "# import numpy as np\n",
    "import pandas as pd\n",
    "import matplotlib.pyplot as plt\n",
    "import seaborn as sns"
   ]
  },
  {
   "cell_type": "markdown",
   "metadata": {},
   "source": [
    "## STEP 2: Read in data"
   ]
  },
  {
   "cell_type": "code",
   "execution_count": 9,
   "metadata": {},
   "outputs": [
    {
     "data": {
      "text/html": [
       "<div>\n",
       "<style scoped>\n",
       "    .dataframe tbody tr th:only-of-type {\n",
       "        vertical-align: middle;\n",
       "    }\n",
       "\n",
       "    .dataframe tbody tr th {\n",
       "        vertical-align: top;\n",
       "    }\n",
       "\n",
       "    .dataframe thead th {\n",
       "        text-align: right;\n",
       "    }\n",
       "</style>\n",
       "<table border=\"1\" class=\"dataframe\">\n",
       "  <thead>\n",
       "    <tr style=\"text-align: right;\">\n",
       "      <th></th>\n",
       "      <th>playerID</th>\n",
       "      <th>yearID</th>\n",
       "      <th>stint</th>\n",
       "      <th>teamID</th>\n",
       "    </tr>\n",
       "  </thead>\n",
       "  <tbody>\n",
       "    <tr>\n",
       "      <th>0</th>\n",
       "      <td>abercda01</td>\n",
       "      <td>1871</td>\n",
       "      <td>1</td>\n",
       "      <td>TRO</td>\n",
       "    </tr>\n",
       "    <tr>\n",
       "      <th>1</th>\n",
       "      <td>addybo01</td>\n",
       "      <td>1871</td>\n",
       "      <td>1</td>\n",
       "      <td>RC1</td>\n",
       "    </tr>\n",
       "    <tr>\n",
       "      <th>2</th>\n",
       "      <td>allisar01</td>\n",
       "      <td>1871</td>\n",
       "      <td>1</td>\n",
       "      <td>CL1</td>\n",
       "    </tr>\n",
       "    <tr>\n",
       "      <th>3</th>\n",
       "      <td>allisdo01</td>\n",
       "      <td>1871</td>\n",
       "      <td>1</td>\n",
       "      <td>WS3</td>\n",
       "    </tr>\n",
       "    <tr>\n",
       "      <th>4</th>\n",
       "      <td>ansonca01</td>\n",
       "      <td>1871</td>\n",
       "      <td>1</td>\n",
       "      <td>RC1</td>\n",
       "    </tr>\n",
       "  </tbody>\n",
       "</table>\n",
       "</div>"
      ],
      "text/plain": [
       "    playerID  yearID  stint teamID\n",
       "0  abercda01    1871      1    TRO\n",
       "1   addybo01    1871      1    RC1\n",
       "2  allisar01    1871      1    CL1\n",
       "3  allisdo01    1871      1    WS3\n",
       "4  ansonca01    1871      1    RC1"
      ]
     },
     "execution_count": 9,
     "metadata": {},
     "output_type": "execute_result"
    }
   ],
   "source": [
    "batting_df = pd.read_csv('./data/core/Batting.csv',\n",
    "                        delimiter=',',\n",
    "                        usecols=['playerID','yearID','stint','teamID'])\n",
    "batting_df.head(5)"
   ]
  },
  {
   "cell_type": "code",
   "execution_count": 3,
   "metadata": {},
   "outputs": [
    {
     "data": {
      "text/html": [
       "<div>\n",
       "<style scoped>\n",
       "    .dataframe tbody tr th:only-of-type {\n",
       "        vertical-align: middle;\n",
       "    }\n",
       "\n",
       "    .dataframe tbody tr th {\n",
       "        vertical-align: top;\n",
       "    }\n",
       "\n",
       "    .dataframe thead th {\n",
       "        text-align: right;\n",
       "    }\n",
       "</style>\n",
       "<table border=\"1\" class=\"dataframe\">\n",
       "  <thead>\n",
       "    <tr style=\"text-align: right;\">\n",
       "      <th></th>\n",
       "      <th>birthYear</th>\n",
       "      <th>nameFirst</th>\n",
       "      <th>nameLast</th>\n",
       "    </tr>\n",
       "    <tr>\n",
       "      <th>playerID</th>\n",
       "      <th></th>\n",
       "      <th></th>\n",
       "      <th></th>\n",
       "    </tr>\n",
       "  </thead>\n",
       "  <tbody>\n",
       "    <tr>\n",
       "      <th>aardsda01</th>\n",
       "      <td>1981.0</td>\n",
       "      <td>David</td>\n",
       "      <td>Aardsma</td>\n",
       "    </tr>\n",
       "    <tr>\n",
       "      <th>aaronha01</th>\n",
       "      <td>1934.0</td>\n",
       "      <td>Hank</td>\n",
       "      <td>Aaron</td>\n",
       "    </tr>\n",
       "    <tr>\n",
       "      <th>aaronto01</th>\n",
       "      <td>1939.0</td>\n",
       "      <td>Tommie</td>\n",
       "      <td>Aaron</td>\n",
       "    </tr>\n",
       "    <tr>\n",
       "      <th>aasedo01</th>\n",
       "      <td>1954.0</td>\n",
       "      <td>Don</td>\n",
       "      <td>Aase</td>\n",
       "    </tr>\n",
       "    <tr>\n",
       "      <th>abadan01</th>\n",
       "      <td>1972.0</td>\n",
       "      <td>Andy</td>\n",
       "      <td>Abad</td>\n",
       "    </tr>\n",
       "  </tbody>\n",
       "</table>\n",
       "</div>"
      ],
      "text/plain": [
       "           birthYear nameFirst nameLast\n",
       "playerID                               \n",
       "aardsda01     1981.0     David  Aardsma\n",
       "aaronha01     1934.0      Hank    Aaron\n",
       "aaronto01     1939.0    Tommie    Aaron\n",
       "aasedo01      1954.0       Don     Aase\n",
       "abadan01      1972.0      Andy     Abad"
      ]
     },
     "execution_count": 3,
     "metadata": {},
     "output_type": "execute_result"
    }
   ],
   "source": [
    "people_df = pd.read_csv('./data/core/People.csv',\n",
    "                        delimiter=',',\n",
    "                        index_col=['playerID'],\n",
    "                        usecols=['playerID','nameFirst','nameLast','birthYear'])\n",
    "people_df.head(5)"
   ]
  },
  {
   "cell_type": "code",
   "execution_count": 4,
   "metadata": {},
   "outputs": [
    {
     "data": {
      "text/html": [
       "<div>\n",
       "<style scoped>\n",
       "    .dataframe tbody tr th:only-of-type {\n",
       "        vertical-align: middle;\n",
       "    }\n",
       "\n",
       "    .dataframe tbody tr th {\n",
       "        vertical-align: top;\n",
       "    }\n",
       "\n",
       "    .dataframe thead th {\n",
       "        text-align: right;\n",
       "    }\n",
       "</style>\n",
       "<table border=\"1\" class=\"dataframe\">\n",
       "  <thead>\n",
       "    <tr style=\"text-align: right;\">\n",
       "      <th></th>\n",
       "      <th>yearID</th>\n",
       "      <th>teamID</th>\n",
       "      <th>lgID</th>\n",
       "      <th>playerID</th>\n",
       "      <th>salary</th>\n",
       "    </tr>\n",
       "  </thead>\n",
       "  <tbody>\n",
       "    <tr>\n",
       "      <th>0</th>\n",
       "      <td>1985</td>\n",
       "      <td>ATL</td>\n",
       "      <td>NL</td>\n",
       "      <td>barkele01</td>\n",
       "      <td>870000</td>\n",
       "    </tr>\n",
       "    <tr>\n",
       "      <th>1</th>\n",
       "      <td>1985</td>\n",
       "      <td>ATL</td>\n",
       "      <td>NL</td>\n",
       "      <td>bedrost01</td>\n",
       "      <td>550000</td>\n",
       "    </tr>\n",
       "    <tr>\n",
       "      <th>2</th>\n",
       "      <td>1985</td>\n",
       "      <td>ATL</td>\n",
       "      <td>NL</td>\n",
       "      <td>benedbr01</td>\n",
       "      <td>545000</td>\n",
       "    </tr>\n",
       "    <tr>\n",
       "      <th>3</th>\n",
       "      <td>1985</td>\n",
       "      <td>ATL</td>\n",
       "      <td>NL</td>\n",
       "      <td>campri01</td>\n",
       "      <td>633333</td>\n",
       "    </tr>\n",
       "    <tr>\n",
       "      <th>4</th>\n",
       "      <td>1985</td>\n",
       "      <td>ATL</td>\n",
       "      <td>NL</td>\n",
       "      <td>ceronri01</td>\n",
       "      <td>625000</td>\n",
       "    </tr>\n",
       "  </tbody>\n",
       "</table>\n",
       "</div>"
      ],
      "text/plain": [
       "   yearID teamID lgID   playerID  salary\n",
       "0    1985    ATL   NL  barkele01  870000\n",
       "1    1985    ATL   NL  bedrost01  550000\n",
       "2    1985    ATL   NL  benedbr01  545000\n",
       "3    1985    ATL   NL   campri01  633333\n",
       "4    1985    ATL   NL  ceronri01  625000"
      ]
     },
     "execution_count": 4,
     "metadata": {},
     "output_type": "execute_result"
    }
   ],
   "source": [
    "salary_df = pd.read_csv('./data/core/Salaries.csv',\n",
    "                        delimiter=',')\n",
    "salary_df.head(5)"
   ]
  },
  {
   "cell_type": "code",
   "execution_count": 6,
   "metadata": {},
   "outputs": [
    {
     "data": {
      "text/html": [
       "<div>\n",
       "<style scoped>\n",
       "    .dataframe tbody tr th:only-of-type {\n",
       "        vertical-align: middle;\n",
       "    }\n",
       "\n",
       "    .dataframe tbody tr th {\n",
       "        vertical-align: top;\n",
       "    }\n",
       "\n",
       "    .dataframe thead th {\n",
       "        text-align: right;\n",
       "    }\n",
       "</style>\n",
       "<table border=\"1\" class=\"dataframe\">\n",
       "  <thead>\n",
       "    <tr style=\"text-align: right;\">\n",
       "      <th></th>\n",
       "      <th>yearID</th>\n",
       "      <th>teamID</th>\n",
       "      <th>G</th>\n",
       "      <th>W</th>\n",
       "    </tr>\n",
       "  </thead>\n",
       "  <tbody>\n",
       "    <tr>\n",
       "      <th>0</th>\n",
       "      <td>1871</td>\n",
       "      <td>BS1</td>\n",
       "      <td>31</td>\n",
       "      <td>20</td>\n",
       "    </tr>\n",
       "    <tr>\n",
       "      <th>1</th>\n",
       "      <td>1871</td>\n",
       "      <td>CH1</td>\n",
       "      <td>28</td>\n",
       "      <td>19</td>\n",
       "    </tr>\n",
       "    <tr>\n",
       "      <th>2</th>\n",
       "      <td>1871</td>\n",
       "      <td>CL1</td>\n",
       "      <td>29</td>\n",
       "      <td>10</td>\n",
       "    </tr>\n",
       "    <tr>\n",
       "      <th>3</th>\n",
       "      <td>1871</td>\n",
       "      <td>FW1</td>\n",
       "      <td>19</td>\n",
       "      <td>7</td>\n",
       "    </tr>\n",
       "    <tr>\n",
       "      <th>4</th>\n",
       "      <td>1871</td>\n",
       "      <td>NY2</td>\n",
       "      <td>33</td>\n",
       "      <td>16</td>\n",
       "    </tr>\n",
       "  </tbody>\n",
       "</table>\n",
       "</div>"
      ],
      "text/plain": [
       "   yearID teamID   G   W\n",
       "0    1871    BS1  31  20\n",
       "1    1871    CH1  28  19\n",
       "2    1871    CL1  29  10\n",
       "3    1871    FW1  19   7\n",
       "4    1871    NY2  33  16"
      ]
     },
     "execution_count": 6,
     "metadata": {},
     "output_type": "execute_result"
    }
   ],
   "source": [
    "teams_df = pd.read_csv('./data/core/Teams.csv',\n",
    "                       delimiter=',',\n",
    "                       usecols=['yearID','teamID','G','W'])\n",
    "teams_df.head(5)"
   ]
  },
  {
   "cell_type": "markdown",
   "metadata": {},
   "source": [
    "## STEP 3: Explore the data\n",
    "### Average Salary by Year"
   ]
  },
  {
   "cell_type": "code",
   "execution_count": 7,
   "metadata": {
    "scrolled": true
   },
   "outputs": [
    {
     "data": {
      "image/png": "[encoded data removed]",
      "text/plain": [
       "<Figure size 432x288 with 1 Axes>"
      ]
     },
     "metadata": {
      "needs_background": "light"
     },
     "output_type": "display_data"
    }
   ],
   "source": [
    "salary_by_year_df = salary_df.groupby([\"yearID\"], as_index=False)[\"salary\"].mean()\n",
    "salary_by_year_df.plot(kind='scatter',x='yearID',y='salary',color='red')\n",
    "plt.show()"
   ]
  },
  {
   "cell_type": "markdown",
   "metadata": {},
   "source": [
    "### Normalized Salary Distribution by Year"
   ]
  },
  {
   "cell_type": "code",
   "execution_count": 56,
   "metadata": {},
   "outputs": [
    {
     "data": {
      "text/html": [
       "<div>\n",
       "<style scoped>\n",
       "    .dataframe tbody tr th:only-of-type {\n",
       "        vertical-align: middle;\n",
       "    }\n",
       "\n",
       "    .dataframe tbody tr th {\n",
       "        vertical-align: top;\n",
       "    }\n",
       "\n",
       "    .dataframe thead th {\n",
       "        text-align: right;\n",
       "    }\n",
       "</style>\n",
       "<table border=\"1\" class=\"dataframe\">\n",
       "  <thead>\n",
       "    <tr style=\"text-align: right;\">\n",
       "      <th></th>\n",
       "      <th>playerID</th>\n",
       "      <th>yearID</th>\n",
       "      <th>stint</th>\n",
       "      <th>teamID_x</th>\n",
       "      <th>birthYear</th>\n",
       "      <th>nameFirst</th>\n",
       "      <th>nameLast</th>\n",
       "      <th>meanSalary</th>\n",
       "      <th>teamID_y</th>\n",
       "      <th>lgID</th>\n",
       "      <th>salary</th>\n",
       "      <th>normalizedSalary</th>\n",
       "    </tr>\n",
       "  </thead>\n",
       "  <tbody>\n",
       "    <tr>\n",
       "      <th>2</th>\n",
       "      <td>ackerji01</td>\n",
       "      <td>1985</td>\n",
       "      <td>1</td>\n",
       "      <td>TOR</td>\n",
       "      <td>1958.0</td>\n",
       "      <td>Jim</td>\n",
       "      <td>Acker</td>\n",
       "      <td>4.762994e+05</td>\n",
       "      <td>TOR</td>\n",
       "      <td>AL</td>\n",
       "      <td>170000.0</td>\n",
       "      <td>0.356918</td>\n",
       "    </tr>\n",
       "    <tr>\n",
       "      <th>4</th>\n",
       "      <td>agostju01</td>\n",
       "      <td>1985</td>\n",
       "      <td>1</td>\n",
       "      <td>CHA</td>\n",
       "      <td>1958.0</td>\n",
       "      <td>Juan</td>\n",
       "      <td>Agosto</td>\n",
       "      <td>4.762994e+05</td>\n",
       "      <td>CHA</td>\n",
       "      <td>AL</td>\n",
       "      <td>147500.0</td>\n",
       "      <td>0.309679</td>\n",
       "    </tr>\n",
       "    <tr>\n",
       "      <th>5</th>\n",
       "      <td>aguaylu01</td>\n",
       "      <td>1985</td>\n",
       "      <td>1</td>\n",
       "      <td>PHI</td>\n",
       "      <td>1959.0</td>\n",
       "      <td>Luis</td>\n",
       "      <td>Aguayo</td>\n",
       "      <td>4.762994e+05</td>\n",
       "      <td>PHI</td>\n",
       "      <td>NL</td>\n",
       "      <td>237000.0</td>\n",
       "      <td>0.497586</td>\n",
       "    </tr>\n",
       "    <tr>\n",
       "      <th>8</th>\n",
       "      <td>alexado01</td>\n",
       "      <td>1985</td>\n",
       "      <td>1</td>\n",
       "      <td>TOR</td>\n",
       "      <td>1950.0</td>\n",
       "      <td>Doyle</td>\n",
       "      <td>Alexander</td>\n",
       "      <td>4.762994e+05</td>\n",
       "      <td>TOR</td>\n",
       "      <td>AL</td>\n",
       "      <td>875000.0</td>\n",
       "      <td>1.837080</td>\n",
       "    </tr>\n",
       "    <tr>\n",
       "      <th>10</th>\n",
       "      <td>allenne01</td>\n",
       "      <td>1985</td>\n",
       "      <td>1</td>\n",
       "      <td>SLN</td>\n",
       "      <td>1958.0</td>\n",
       "      <td>Neil</td>\n",
       "      <td>Allen</td>\n",
       "      <td>4.762994e+05</td>\n",
       "      <td>SLN</td>\n",
       "      <td>NL</td>\n",
       "      <td>750000.0</td>\n",
       "      <td>1.574640</td>\n",
       "    </tr>\n",
       "    <tr>\n",
       "      <th>...</th>\n",
       "      <td>...</td>\n",
       "      <td>...</td>\n",
       "      <td>...</td>\n",
       "      <td>...</td>\n",
       "      <td>...</td>\n",
       "      <td>...</td>\n",
       "      <td>...</td>\n",
       "      <td>...</td>\n",
       "      <td>...</td>\n",
       "      <td>...</td>\n",
       "      <td>...</td>\n",
       "      <td>...</td>\n",
       "    </tr>\n",
       "    <tr>\n",
       "      <th>40746</th>\n",
       "      <td>zieglbr01</td>\n",
       "      <td>2016</td>\n",
       "      <td>2</td>\n",
       "      <td>BOS</td>\n",
       "      <td>1979.0</td>\n",
       "      <td>Brad</td>\n",
       "      <td>Ziegler</td>\n",
       "      <td>4.396410e+06</td>\n",
       "      <td>ARI</td>\n",
       "      <td>NL</td>\n",
       "      <td>5500000.0</td>\n",
       "      <td>1.251021</td>\n",
       "    </tr>\n",
       "    <tr>\n",
       "      <th>40747</th>\n",
       "      <td>zimmejo02</td>\n",
       "      <td>2016</td>\n",
       "      <td>1</td>\n",
       "      <td>DET</td>\n",
       "      <td>1986.0</td>\n",
       "      <td>Jordan</td>\n",
       "      <td>Zimmermann</td>\n",
       "      <td>4.396410e+06</td>\n",
       "      <td>DET</td>\n",
       "      <td>AL</td>\n",
       "      <td>18000000.0</td>\n",
       "      <td>4.094250</td>\n",
       "    </tr>\n",
       "    <tr>\n",
       "      <th>40748</th>\n",
       "      <td>zimmery01</td>\n",
       "      <td>2016</td>\n",
       "      <td>1</td>\n",
       "      <td>WAS</td>\n",
       "      <td>1984.0</td>\n",
       "      <td>Ryan</td>\n",
       "      <td>Zimmerman</td>\n",
       "      <td>4.396410e+06</td>\n",
       "      <td>WAS</td>\n",
       "      <td>NL</td>\n",
       "      <td>14000000.0</td>\n",
       "      <td>3.184417</td>\n",
       "    </tr>\n",
       "    <tr>\n",
       "      <th>40749</th>\n",
       "      <td>zobribe01</td>\n",
       "      <td>2016</td>\n",
       "      <td>1</td>\n",
       "      <td>CHN</td>\n",
       "      <td>1981.0</td>\n",
       "      <td>Ben</td>\n",
       "      <td>Zobrist</td>\n",
       "      <td>4.396410e+06</td>\n",
       "      <td>CHN</td>\n",
       "      <td>NL</td>\n",
       "      <td>10500000.0</td>\n",
       "      <td>2.388312</td>\n",
       "    </tr>\n",
       "    <tr>\n",
       "      <th>40751</th>\n",
       "      <td>zychto01</td>\n",
       "      <td>2016</td>\n",
       "      <td>1</td>\n",
       "      <td>SEA</td>\n",
       "      <td>1990.0</td>\n",
       "      <td>Tony</td>\n",
       "      <td>Zych</td>\n",
       "      <td>4.396410e+06</td>\n",
       "      <td>SEA</td>\n",
       "      <td>AL</td>\n",
       "      <td>511000.0</td>\n",
       "      <td>0.116231</td>\n",
       "    </tr>\n",
       "  </tbody>\n",
       "</table>\n",
       "<p>28294 rows × 12 columns</p>\n",
       "</div>"
      ],
      "text/plain": [
       "        playerID  yearID  stint teamID_x  birthYear nameFirst    nameLast  \\\n",
       "2      ackerji01    1985      1      TOR     1958.0       Jim       Acker   \n",
       "4      agostju01    1985      1      CHA     1958.0      Juan      Agosto   \n",
       "5      aguaylu01    1985      1      PHI     1959.0      Luis      Aguayo   \n",
       "8      alexado01    1985      1      TOR     1950.0     Doyle   Alexander   \n",
       "10     allenne01    1985      1      SLN     1958.0      Neil       Allen   \n",
       "...          ...     ...    ...      ...        ...       ...         ...   \n",
       "40746  zieglbr01    2016      2      BOS     1979.0      Brad     Ziegler   \n",
       "40747  zimmejo02    2016      1      DET     1986.0    Jordan  Zimmermann   \n",
       "40748  zimmery01    2016      1      WAS     1984.0      Ryan   Zimmerman   \n",
       "40749  zobribe01    2016      1      CHN     1981.0       Ben     Zobrist   \n",
       "40751   zychto01    2016      1      SEA     1990.0      Tony        Zych   \n",
       "\n",
       "         meanSalary teamID_y lgID      salary  normalizedSalary  \n",
       "2      4.762994e+05      TOR   AL    170000.0          0.356918  \n",
       "4      4.762994e+05      CHA   AL    147500.0          0.309679  \n",
       "5      4.762994e+05      PHI   NL    237000.0          0.497586  \n",
       "8      4.762994e+05      TOR   AL    875000.0          1.837080  \n",
       "10     4.762994e+05      SLN   NL    750000.0          1.574640  \n",
       "...             ...      ...  ...         ...               ...  \n",
       "40746  4.396410e+06      ARI   NL   5500000.0          1.251021  \n",
       "40747  4.396410e+06      DET   AL  18000000.0          4.094250  \n",
       "40748  4.396410e+06      WAS   NL  14000000.0          3.184417  \n",
       "40749  4.396410e+06      CHN   NL  10500000.0          2.388312  \n",
       "40751  4.396410e+06      SEA   AL    511000.0          0.116231  \n",
       "\n",
       "[28294 rows x 12 columns]"
      ]
     },
     "execution_count": 56,
     "metadata": {},
     "output_type": "execute_result"
    }
   ],
   "source": [
    "# Filter to some subset of years where we have salaries (1985 - 2016)\n",
    "batting_filtered_df = batting_df[(batting_df.yearID>=1985) & (batting_df.yearID<=2016)]\n",
    "\n",
    "# Join batting with people information, mean salaries by year, and the player's salary\n",
    "batting_filtered_df = batting_filtered_df.join(people_df, on='playerID').join(salary_by_year_df.set_index('yearID'), on='yearID')\n",
    "batting_filtered_df.rename(columns={'salary':'meanSalary'}, inplace=True)\n",
    "batting_filtered_df = pd.merge(batting_filtered_df, salary_df,  how='left', left_on=['yearID','playerID'], right_on = ['yearID','playerID'])\n",
    "\n",
    "# Calculate salary / avg salary\n",
    "batting_filtered_df['normalizedSalary'] = batting_filtered_df.salary/batting_filtered_df.meanSalary\n",
    "\n",
    "# Get rid of all rows without a salary\n",
    "batting_filtered_df = batting_filtered_df[~batting_filtered_df.salary.isnull()]\n",
    "batting_filtered_df"
   ]
  },
  {
   "cell_type": "code",
   "execution_count": 74,
   "metadata": {
    "scrolled": false
   },
   "outputs": [
    {
     "data": {
      "image/png": "[encoded data removed]",
      "text/plain": [
       "<Figure size 432x288 with 1 Axes>"
      ]
     },
     "metadata": {
      "needs_background": "light"
     },
     "output_type": "display_data"
    },
    {
     "data": {
      "image/png": "[encoded data removed]",
      "text/plain": [
       "<Figure size 432x288 with 1 Axes>"
      ]
     },
     "metadata": {
      "needs_background": "light"
     },
     "output_type": "display_data"
    },
    {
     "data": {
      "image/png": "[encoded data removed]",
      "text/plain": [
       "<Figure size 432x288 with 1 Axes>"
      ]
     },
     "metadata": {
      "needs_background": "light"
     },
     "output_type": "display_data"
    },
    {
     "data": {
      "image/png": "[encoded data removed]",
      "text/plain": [
       "<Figure size 432x288 with 1 Axes>"
      ]
     },
     "metadata": {
      "needs_background": "light"
     },
     "output_type": "display_data"
    },
    {
     "data": {
      "image/png": "[encoded data removed]",
      "text/plain": [
       "<Figure size 432x288 with 1 Axes>"
      ]
     },
     "metadata": {
      "needs_background": "light"
     },
     "output_type": "display_data"
    },
    {
     "data": {
      "image/png": "[encoded data removed]",
      "text/plain": [
       "<Figure size 432x288 with 1 Axes>"
      ]
     },
     "metadata": {
      "needs_background": "light"
     },
     "output_type": "display_data"
    },
    {
     "data": {
      "image/png": "[encoded data removed]",
      "text/plain": [
       "<Figure size 432x288 with 1 Axes>"
      ]
     },
     "metadata": {
      "needs_background": "light"
     },
     "output_type": "display_data"
    }
   ],
   "source": [
    "unique_years = list(batting_filtered_df['yearID'].unique())\n",
    "\n",
    "for year in unique_years:\n",
    "    if year % 5 == 0:\n",
    "        batting_year_df = batting_filtered_df[batting_filtered_df.yearID==year]\n",
    "        plt.figure()\n",
    "        batting_year_df.normalizedSalary.plot.hist(bins=20, range=[0, 10])\n",
    "        plt.suptitle(\"Year: \" + str(year))"
   ]
  },
  {
   "cell_type": "markdown",
   "metadata": {},
   "source": [
    "### Normalized Salary Distribution (Count) vs Win% by Team"
   ]
  },
  {
   "cell_type": "code",
   "execution_count": 139,
   "metadata": {},
   "outputs": [
    {
     "data": {
      "text/html": [
       "<div>\n",
       "<style scoped>\n",
       "    .dataframe tbody tr th:only-of-type {\n",
       "        vertical-align: middle;\n",
       "    }\n",
       "\n",
       "    .dataframe tbody tr th {\n",
       "        vertical-align: top;\n",
       "    }\n",
       "\n",
       "    .dataframe thead th {\n",
       "        text-align: right;\n",
       "    }\n",
       "</style>\n",
       "<table border=\"1\" class=\"dataframe\">\n",
       "  <thead>\n",
       "    <tr style=\"text-align: right;\">\n",
       "      <th></th>\n",
       "      <th>yearID</th>\n",
       "      <th>teamID_x</th>\n",
       "      <th>normalizedSalary</th>\n",
       "      <th>teamID</th>\n",
       "      <th>G</th>\n",
       "      <th>W</th>\n",
       "      <th>winPercentage</th>\n",
       "    </tr>\n",
       "  </thead>\n",
       "  <tbody>\n",
       "    <tr>\n",
       "      <th>0</th>\n",
       "      <td>1985</td>\n",
       "      <td>ATL</td>\n",
       "      <td>14</td>\n",
       "      <td>ATL</td>\n",
       "      <td>162</td>\n",
       "      <td>66</td>\n",
       "      <td>0.407407</td>\n",
       "    </tr>\n",
       "    <tr>\n",
       "      <th>1</th>\n",
       "      <td>1985</td>\n",
       "      <td>BAL</td>\n",
       "      <td>14</td>\n",
       "      <td>BAL</td>\n",
       "      <td>161</td>\n",
       "      <td>83</td>\n",
       "      <td>0.515528</td>\n",
       "    </tr>\n",
       "    <tr>\n",
       "      <th>2</th>\n",
       "      <td>1985</td>\n",
       "      <td>BOS</td>\n",
       "      <td>9</td>\n",
       "      <td>BOS</td>\n",
       "      <td>163</td>\n",
       "      <td>81</td>\n",
       "      <td>0.496933</td>\n",
       "    </tr>\n",
       "    <tr>\n",
       "      <th>3</th>\n",
       "      <td>1985</td>\n",
       "      <td>CAL</td>\n",
       "      <td>13</td>\n",
       "      <td>CAL</td>\n",
       "      <td>162</td>\n",
       "      <td>90</td>\n",
       "      <td>0.555556</td>\n",
       "    </tr>\n",
       "    <tr>\n",
       "      <th>4</th>\n",
       "      <td>1985</td>\n",
       "      <td>CHA</td>\n",
       "      <td>8</td>\n",
       "      <td>CHA</td>\n",
       "      <td>163</td>\n",
       "      <td>85</td>\n",
       "      <td>0.521472</td>\n",
       "    </tr>\n",
       "    <tr>\n",
       "      <th>...</th>\n",
       "      <td>...</td>\n",
       "      <td>...</td>\n",
       "      <td>...</td>\n",
       "      <td>...</td>\n",
       "      <td>...</td>\n",
       "      <td>...</td>\n",
       "      <td>...</td>\n",
       "    </tr>\n",
       "    <tr>\n",
       "      <th>911</th>\n",
       "      <td>2016</td>\n",
       "      <td>SLN</td>\n",
       "      <td>10</td>\n",
       "      <td>SLN</td>\n",
       "      <td>162</td>\n",
       "      <td>86</td>\n",
       "      <td>0.530864</td>\n",
       "    </tr>\n",
       "    <tr>\n",
       "      <th>912</th>\n",
       "      <td>2016</td>\n",
       "      <td>TBA</td>\n",
       "      <td>4</td>\n",
       "      <td>TBA</td>\n",
       "      <td>162</td>\n",
       "      <td>68</td>\n",
       "      <td>0.419753</td>\n",
       "    </tr>\n",
       "    <tr>\n",
       "      <th>913</th>\n",
       "      <td>2016</td>\n",
       "      <td>TEX</td>\n",
       "      <td>11</td>\n",
       "      <td>TEX</td>\n",
       "      <td>162</td>\n",
       "      <td>95</td>\n",
       "      <td>0.586420</td>\n",
       "    </tr>\n",
       "    <tr>\n",
       "      <th>914</th>\n",
       "      <td>2016</td>\n",
       "      <td>TOR</td>\n",
       "      <td>13</td>\n",
       "      <td>TOR</td>\n",
       "      <td>162</td>\n",
       "      <td>89</td>\n",
       "      <td>0.549383</td>\n",
       "    </tr>\n",
       "    <tr>\n",
       "      <th>915</th>\n",
       "      <td>2016</td>\n",
       "      <td>WAS</td>\n",
       "      <td>11</td>\n",
       "      <td>WAS</td>\n",
       "      <td>162</td>\n",
       "      <td>95</td>\n",
       "      <td>0.586420</td>\n",
       "    </tr>\n",
       "  </tbody>\n",
       "</table>\n",
       "<p>916 rows × 7 columns</p>\n",
       "</div>"
      ],
      "text/plain": [
       "     yearID teamID_x  normalizedSalary teamID    G   W  winPercentage\n",
       "0      1985      ATL                14    ATL  162  66       0.407407\n",
       "1      1985      BAL                14    BAL  161  83       0.515528\n",
       "2      1985      BOS                 9    BOS  163  81       0.496933\n",
       "3      1985      CAL                13    CAL  162  90       0.555556\n",
       "4      1985      CHA                 8    CHA  163  85       0.521472\n",
       "..      ...      ...               ...    ...  ...  ..            ...\n",
       "911    2016      SLN                10    SLN  162  86       0.530864\n",
       "912    2016      TBA                 4    TBA  162  68       0.419753\n",
       "913    2016      TEX                11    TEX  162  95       0.586420\n",
       "914    2016      TOR                13    TOR  162  89       0.549383\n",
       "915    2016      WAS                11    WAS  162  95       0.586420\n",
       "\n",
       "[916 rows x 7 columns]"
      ]
     },
     "execution_count": 139,
     "metadata": {},
     "output_type": "execute_result"
    }
   ],
   "source": [
    "# scatterplot each player - normalized salary vs win %\n",
    "# scatterplot each team each year - % of players with normalized salary above/below X vs win %\n",
    "\n",
    "# Count by year by team number of normalized salaries > X\n",
    "normalized_cutoff = 1\n",
    "year_team_df = batting_filtered_df[batting_filtered_df.normalizedSalary > normalized_cutoff].groupby(['yearID','teamID_x'], as_index=False).normalizedSalary.count()\n",
    "\n",
    "# Merge with teams to get wins and games, calculate win %\n",
    "salary_win_df = pd.merge(year_team_df, teams_df,  how='left', left_on=['yearID','teamID_x'], right_on = ['yearID','teamID'])\n",
    "salary_win_df['winPercentage'] = salary_win_df.W / salary_win_df.G\n",
    "salary_win_df"
   ]
  },
  {
   "cell_type": "code",
   "execution_count": 134,
   "metadata": {},
   "outputs": [
    {
     "data": {
      "image/png": "[encoded data removed]",
      "text/plain": [
       "<Figure size 432x288 with 1 Axes>"
      ]
     },
     "metadata": {
      "needs_background": "light"
     },
     "output_type": "display_data"
    }
   ],
   "source": [
    "# Filter based on year or team\n",
    "salary_win_filtered_df = salary_win_df[salary_win_df.yearID >= 1985]\n",
    "\n",
    "# Plot win percentag vs normalized salary count for every year and team\n",
    "salary_win_filtered_df.plot(kind='scatter',x='normalizedSalary',y='winPercentage',color='red')\n",
    "plt.show()"
   ]
  },
  {
   "cell_type": "markdown",
   "metadata": {},
   "source": [
    "### Normalized Salary Distribution (Sum) vs Win% by Team"
   ]
  },
  {
   "cell_type": "code",
   "execution_count": 150,
   "metadata": {},
   "outputs": [
    {
     "data": {
      "text/plain": [
       "<Figure size 432x288 with 0 Axes>"
      ]
     },
     "metadata": {},
     "output_type": "display_data"
    },
    {
     "data": {
      "image/png": "[encoded data removed]",
      "text/plain": [
       "<Figure size 432x288 with 1 Axes>"
      ]
     },
     "metadata": {
      "needs_background": "light"
     },
     "output_type": "display_data"
    },
    {
     "data": {
      "text/plain": [
       "<Figure size 432x288 with 0 Axes>"
      ]
     },
     "metadata": {},
     "output_type": "display_data"
    },
    {
     "data": {
      "image/png": "[encoded data removed]",
      "text/plain": [
       "<Figure size 432x288 with 1 Axes>"
      ]
     },
     "metadata": {
      "needs_background": "light"
     },
     "output_type": "display_data"
    }
   ],
   "source": [
    "# Sum normalized salaries by year by team\n",
    "year_team_sum_df = batting_filtered_df.groupby(['yearID','teamID_x']).normalizedSalary.sum()\n",
    "\n",
    "# Merge with teams to get wins and games, calculate win %\n",
    "salary_sum_win_df = pd.merge(year_team_sum_df, teams_df,  how='left', left_on=['yearID','teamID_x'], right_on = ['yearID','teamID'])\n",
    "salary_sum_win_df['winPercentage'] = salary_sum_win_df.W / salary_sum_win_df.G\n",
    "\n",
    "# Filter based on year or team and plot\n",
    "salary_sum_win_filtered_df = salary_sum_win_df[(salary_sum_win_df.yearID >= 1985) & (salary_sum_win_df.yearID <= 1999)]\n",
    "plt.figure()\n",
    "salary_sum_win_filtered_df.plot(kind='scatter',x='normalizedSalary',y='winPercentage',color='red')\n",
    "plt.suptitle(\"Years: 1985-1999\")\n",
    "\n",
    "salary_sum_win_filtered_df = salary_sum_win_df[(salary_sum_win_df.yearID >= 2000) & (salary_sum_win_df.yearID <= 2016)]\n",
    "plt.figure()\n",
    "salary_sum_win_filtered_df.plot(kind='scatter',x='normalizedSalary',y='winPercentage',color='red')\n",
    "plt.suptitle(\"Years: 2000-2016\")\n",
    "plt.show()"
   ]
  },
  {
   "cell_type": "code",
   "execution_count": null,
   "metadata": {},
   "outputs": [],
   "source": []
  }
 ],
 "metadata": {
  "kernelspec": {
   "display_name": "Python 3",
   "language": "python",
   "name": "python3"
  },
  "language_info": {
   "codemirror_mode": {
    "name": "ipython",
    "version": 3
   },
   "file_extension": ".py",
   "mimetype": "text/x-python",
   "name": "python",
   "nbconvert_exporter": "python",
   "pygments_lexer": "ipython3",
   "version": "3.8.1"
  }
 },
 "nbformat": 4,
 "nbformat_minor": 4
}
